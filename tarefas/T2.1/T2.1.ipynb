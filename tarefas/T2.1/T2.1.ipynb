{
 "cells": [
  {
   "cell_type": "markdown",
   "metadata": {},
   "source": [
    "# T2.1: Exercicio CSV con PANDAS"
   ]
  },
  {
   "cell_type": "markdown",
   "metadata": {},
   "source": [
    "**Contesta**:\n",
    "\n",
    "1. Explicas as diferencias entre *merge()*, *join()* e *concat()*. Pista: <https://realpython.com/pandas-merge-join-and-concat/>.\n",
    "\n",
    "\n",
    "2. Se tes unha táboa cliente e factura de modo que un cliente pode ter N facturas e unha factura pertence a un só cliente. Que tipo de Join debes aplicar para obter a listaxe de facturas cos seus clientes cada unha (left join, right join, outer join, inner join, full, left outer...)."
   ]
  },
  {
   "cell_type": "markdown",
   "metadata": {},
   "source": [
    "Práctica de lectura de arquivos CSV e conversión. Terás que completar o seguinte código de exemplo onde corresponda.\n",
    "\n",
    "Utiliza como dataset os arquivos CSV dos centros educativos en Galicia: <https://www.edu.xunta.gal/centroseducativos/>\n",
    "\n",
    "Importar a libraría **pandas** (lembra instalala con conda se non a tes: `conda install pandas`)"
   ]
  },
  {
   "cell_type": "code",
   "execution_count": null,
   "metadata": {},
   "outputs": [],
   "source": [
    "import pandas as pd"
   ]
  },
  {
   "cell_type": "markdown",
   "metadata": {},
   "source": [
    "Ler ficheiro CSV e gardalo un dataframe:"
   ]
  },
  {
   "cell_type": "code",
   "execution_count": null,
   "metadata": {},
   "outputs": [],
   "source": [
    "coruna_df = pd.read_csv(\"X:\\usuario\\datasets\\edu\\coruna.csv\")"
   ]
  },
  {
   "cell_type": "markdown",
   "metadata": {},
   "source": [
    "**Completa**:"
   ]
  },
  {
   "cell_type": "code",
   "execution_count": null,
   "metadata": {},
   "outputs": [],
   "source": [
    "lugo_df =\n",
    "ourense_df =\n",
    "pontevedra_df ="
   ]
  },
  {
   "cell_type": "markdown",
   "metadata": {},
   "source": [
    "**Completa**: Carga o resto de dataframes e gárdao na variable df: <https://realpython.com/pandas-merge-join-and-concat/>"
   ]
  },
  {
   "cell_type": "code",
   "execution_count": null,
   "metadata": {},
   "outputs": [],
   "source": [
    "df= "
   ]
  },
  {
   "cell_type": "markdown",
   "metadata": {},
   "source": [
    "Amosar o dataframe"
   ]
  },
  {
   "cell_type": "code",
   "execution_count": null,
   "metadata": {},
   "outputs": [],
   "source": [
    "df"
   ]
  },
  {
   "cell_type": "markdown",
   "metadata": {},
   "source": [
    "Amosar as primeiras filas do dataframe (cabeceira)"
   ]
  },
  {
   "cell_type": "code",
   "execution_count": null,
   "metadata": {},
   "outputs": [],
   "source": [
    "df.head()"
   ]
  },
  {
   "cell_type": "markdown",
   "metadata": {},
   "source": [
    "Amosar as últimas filas do dataframe"
   ]
  },
  {
   "cell_type": "code",
   "execution_count": null,
   "metadata": {},
   "outputs": [],
   "source": [
    "df.tail()"
   ]
  },
  {
   "cell_type": "markdown",
   "metadata": {},
   "source": [
    "Amosar a \"forma\" ou dimensións do dataframe (filas e columnas)"
   ]
  },
  {
   "cell_type": "code",
   "execution_count": null,
   "metadata": {},
   "outputs": [],
   "source": [
    "df.shape"
   ]
  },
  {
   "cell_type": "markdown",
   "metadata": {},
   "source": [
    "Amosar algunhas estatísticas por defecto"
   ]
  },
  {
   "cell_type": "code",
   "execution_count": null,
   "metadata": {},
   "outputs": [],
   "source": [
    "df.describe()"
   ]
  },
  {
   "cell_type": "code",
   "execution_count": null,
   "metadata": {},
   "outputs": [],
   "source": [
    "# seleccionar a columna de \"concello\" como serie\n",
    "df['Concello']\n",
    "\n",
    "# mostrar o tipo de selección\n",
    "type(df['Concello'])\n",
    "\n",
    "# Outro xeito de seleccionar series\n",
    "df.TITULARIDADE\n",
    "\n",
    "# mostrar o tipo de selección\n",
    "type(df.Concello)\n",
    "\n",
    "#seleccionar a columna de \"Nome\" como Dataframe\n",
    "df[['Nome']]\n",
    "\n",
    "# mostrar o tipo de selección\n",
    "type(df[['Nome']])\n",
    "\n",
    "# seleccionar varias columnas \"Código\" e \"Nome\"\n",
    "df[['Código','Nome']]\n",
    "\n",
    "# Mirar o tipo do resultado\n",
    "type(df[['Código','Nome']])\n",
    "\n",
    "# Mirar o tipo do argumento que lle pasas a df para facer a selección ['elemento1','elemento2']\n",
    "type(['Código','Nome'])"
   ]
  },
  {
   "cell_type": "markdown",
   "metadata": {},
   "source": [
    "A completar tamén:"
   ]
  },
  {
   "cell_type": "code",
   "execution_count": null,
   "metadata": {},
   "outputs": [],
   "source": [
    "# A resolver, pista: <https://www.geeksforgeeks.org/selecting-rows-in-pandas-dataframe-based-on-conditions/>\n",
    "\n",
    "# Seleccionar centros que sexan de titularidade privada. Cantos hai?\n",
    "\n",
    "# Seleccionar centros que teñan ensinanzas concertados. Cantos hai?\n",
    "\n",
    "# Hai algún centro con ensinanzas concertadas dependente da Consellería?\n",
    "\n",
    "# Seleccionar centros de titularidade pública de Coruña. Cantos hai?\n",
    "\n",
    "# Seleccionar centros de titularidade pública de Lugo. Cantos hai?\n",
    "\n",
    "# Seleccionar centros de titularidade pública de Ourense. Cantos hai?\n",
    "\n",
    "# Seleccionar centros de titularidade pública de Pontevedra. Cantos hai?\n",
    "\n",
    "# Seleccionar centros de tipo: CIFP de cada unha das catro provincias. Cantos hai?\n",
    "\n",
    "# Seleccionar centros de tipo: CPI, CEIP e IES de cada unha das catro provincias. Cantos hai?\n",
    "\n",
    "# Seleccionar o número de centros por concello.\n",
    "\n",
    "# Seleccionar o número de centros de cada tipo por concello.\n",
    "\n",
    "# Limpando datos con erros: Dime qué podes limpar e como nestes datos."
   ]
  },
  {
   "cell_type": "markdown",
   "metadata": {},
   "source": [
    "Garda o dataframe total resultante nos seguintes formatos (e logo volve abrilo nese formato e mostra a cabeceira):\n",
    "\n",
    "**CSV**"
   ]
  },
  {
   "cell_type": "code",
   "execution_count": null,
   "metadata": {},
   "outputs": [],
   "source": [
    "arquivo_temporal = os.path.join(tempfile.mktemp())\n",
    "\n",
    "df.to_csv(arquivo_temporal)\n",
    "\n",
    "print(arquivo_temporal)"
   ]
  },
  {
   "cell_type": "markdown",
   "metadata": {},
   "source": [
    "**Excel**\n",
    "\n",
    "Pasa a formato excel."
   ]
  },
  {
   "cell_type": "code",
   "execution_count": null,
   "metadata": {},
   "outputs": [],
   "source": []
  },
  {
   "cell_type": "markdown",
   "metadata": {},
   "source": [
    "**JSON**\n",
    "\n",
    "Pasa a formato JSON.\n",
    "\n",
    "(Coidado cos índices se xuntaches os dataframes)"
   ]
  },
  {
   "cell_type": "code",
   "execution_count": null,
   "metadata": {},
   "outputs": [],
   "source": []
  },
  {
   "cell_type": "markdown",
   "metadata": {},
   "source": [
    "**XML**\n",
    "\n",
    "Pasa a formato XML:"
   ]
  },
  {
   "cell_type": "code",
   "execution_count": null,
   "metadata": {},
   "outputs": [],
   "source": []
  },
  {
   "cell_type": "markdown",
   "metadata": {},
   "source": [
    "**PARQUET**\n",
    "\n",
    "Pasa a formato parquet. Podes precisar as dependencias para **.parquet**: \n",
    "\n",
    "    `conda install pyarrow fastparquet´"
   ]
  },
  {
   "cell_type": "code",
   "execution_count": null,
   "metadata": {},
   "outputs": [],
   "source": []
  }
 ],
 "metadata": {
  "kernelspec": {
   "display_name": "base",
   "language": "python",
   "name": "python3"
  },
  "language_info": {
   "codemirror_mode": {
    "name": "ipython",
    "version": 3
   },
   "file_extension": ".py",
   "mimetype": "text/x-python",
   "name": "python",
   "nbconvert_exporter": "python",
   "pygments_lexer": "ipython3",
   "version": "3.12.7"
  }
 },
 "nbformat": 4,
 "nbformat_minor": 2
}
